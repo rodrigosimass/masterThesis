{
 "cells": [
  {
   "cell_type": "code",
   "execution_count": 1,
   "metadata": {},
   "outputs": [],
   "source": [
    "import numpy as np\n",
    "import wandb\n",
    "from tqdm import trange\n",
    "from util.mnist.tools import *\n",
    "from util.pickleInterface import *\n",
    "from util.whatwhere.encoder import *\n",
    "from util.whatwhere.decoder import *\n",
    "from util.whatwhere.noise import *\n",
    "from util.willshaw.memory import *\n",
    "from util.willshaw.plot import *\n",
    "from util.pytorch.tools import np_to_grid\n",
    "from util.distribution import *\n",
    "from util.basic_utils import mse_detailed\n",
    "from util.whatwhere.description_encoding import *\n",
    "from util.whatwhere.generate import *\n"
   ]
  },
  {
   "cell_type": "code",
   "execution_count": 2,
   "metadata": {},
   "outputs": [
    {
     "data": {
      "text/plain": [
       "' tst_codes, tst_polar_params = compute_codes(\\n    tst_imgs,\\n    K,\\n    Q,\\n    features,\\n    T_what,\\n    wta,\\n    n_epochs,\\n    b,\\n    Fs,\\n    verbose=False,\\n    set=\"tst\"\\n) '"
      ]
     },
     "execution_count": 2,
     "metadata": {},
     "output_type": "execute_result"
    }
   ],
   "source": [
    "\"\"\" Code generation parameters \"\"\"\n",
    "rng = np.random.RandomState(0)  # reproducible\n",
    "K = 20\n",
    "Q = 21\n",
    "n_epochs = 5\n",
    "b = 0.8\n",
    "wta = True\n",
    "Fs = 2\n",
    "T_what = 0.75\n",
    "\n",
    "\"\"\" load mnist \"\"\"\n",
    "imgs, lbls, tst_imgs, tst_lbls = read_mnist(n_train=60000)\n",
    "I = imgs.shape[1]\n",
    "J = imgs.shape[2]\n",
    "\n",
    "\"\"\" generate codes \"\"\"\n",
    "features = compute_features(imgs, lbls, K, Fs, rng, n_epochs, b, verbose=False)\n",
    "codes, polar_params = compute_codes(\n",
    "    imgs,\n",
    "    K,\n",
    "    Q,\n",
    "    features,\n",
    "    T_what,\n",
    "    wta,\n",
    "    n_epochs,\n",
    "    b,\n",
    "    Fs,\n",
    "    verbose=False,\n",
    "    set=\"trn\"\n",
    ")\n",
    "\n",
    "code_size = codes.shape[1]\n"
   ]
  },
  {
   "cell_type": "code",
   "execution_count": 4,
   "metadata": {},
   "outputs": [],
   "source": [
    "wn = AAWN(code_size)"
   ]
  },
  {
   "cell_type": "code",
   "execution_count": 5,
   "metadata": {},
   "outputs": [
    {
     "name": "stderr",
     "output_type": "stream",
     "text": [
      "                                                                   \r"
     ]
    }
   ],
   "source": [
    "wn.store(codes)"
   ]
  },
  {
   "cell_type": "code",
   "execution_count": 6,
   "metadata": {},
   "outputs": [],
   "source": [
    "gen_lbls = create_gen_lbls(n_classes=10, n_exs=3, transpose=False)"
   ]
  },
  {
   "cell_type": "code",
   "execution_count": 9,
   "metadata": {},
   "outputs": [],
   "source": [
    "prob_dists = compute_dists(codes, lbls)\n",
    "gen_codes = sample_from_dists(prob_dists, gen_lbls)"
   ]
  },
  {
   "cell_type": "code",
   "execution_count": 12,
   "metadata": {},
   "outputs": [],
   "source": [
    "noise_type = \"zero\"\n",
    "l_prob = [0, 0.25, 0.5, 0.75]"
   ]
  },
  {
   "cell_type": "code",
   "execution_count": null,
   "metadata": {},
   "outputs": [],
   "source": [
    "for prob in l_prob:\n",
    "    gen_codes_noisy = add_noise(gen_codes, noise_type, prob)\n",
    "    ret = wn.retrieve(gen_codes_noisy)\n",
    "    recons = recon_no_polar(ret, features, Q, K)"
   ]
  }
 ],
 "metadata": {
  "interpreter": {
   "hash": "5c894ff839a48d4c77499b12de5ae102574276f781916b9d57be3a7c4f5e8334"
  },
  "kernelspec": {
   "display_name": "Python 3.9.6 64-bit",
   "language": "python",
   "name": "python3"
  },
  "language_info": {
   "codemirror_mode": {
    "name": "ipython",
    "version": 3
   },
   "file_extension": ".py",
   "mimetype": "text/x-python",
   "name": "python",
   "nbconvert_exporter": "python",
   "pygments_lexer": "ipython3",
   "version": "3.9.6"
  },
  "orig_nbformat": 4
 },
 "nbformat": 4,
 "nbformat_minor": 2
}
