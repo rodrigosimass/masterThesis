{
 "cells": [
  {
   "cell_type": "code",
   "execution_count": 2,
   "metadata": {},
   "outputs": [],
   "source": [
    "import numpy as np\n",
    "from util.willshaw.memory import *\n",
    "from util.willshaw.eval import *\n",
    "from util.mnist.tools import read_mnist\n",
    "from util.pickleInterface import *\n",
    "from util.whatwhere.plot import *\n",
    "from util.whatwhere.noise import *\n",
    "from util.whatwhere.description_encoding import *\n",
    "from util.whatwhere.generate import *\n",
    "from util.whatwhere.decoder import *\n",
    "from util.plot import *"
   ]
  },
  {
   "cell_type": "code",
   "execution_count": 34,
   "metadata": {},
   "outputs": [],
   "source": [
    "rng = np.random.RandomState(0)  # reproducible\n",
    "\"\"\" Fixed params \"\"\"\n",
    "K = 20  # number of k-means centroids\n",
    "n_epochs = 5  # for the k means feature detection\n",
    "b = 0.8  # minimum activity of the filters: prevents empty feature detection\n",
    "Q = 21  # size of the final object space grid\n",
    "wta = True  # winner takes all\n",
    "\n",
    "Fs = 2  # size of features, Fs = 1 results in a 3by3 filter size (2Fs+1)\n",
    "T_what = 0.9  # Treshod for keeping or discarding a detected feature"
   ]
  },
  {
   "cell_type": "code",
   "execution_count": 35,
   "metadata": {},
   "outputs": [],
   "source": [
    "trn_imgs, trn_lbls, tst_imgs, tst_lbls = read_mnist()\n",
    "features = compute_features(trn_imgs, trn_lbls, K, Fs, rng, n_epochs, b)\n",
    "codes, _ = compute_codes(\n",
    "    trn_imgs,\n",
    "    K,\n",
    "    Q,\n",
    "    features,\n",
    "    T_what,\n",
    "    wta,\n",
    "    n_epochs,\n",
    "    b,\n",
    "    Fs,\n",
    "    set=\"trn\",\n",
    ")\n",
    "\n",
    "tst_codes, _ = compute_codes(\n",
    "    tst_imgs,\n",
    "    K,\n",
    "    Q,\n",
    "    features,\n",
    "    T_what,\n",
    "    wta,\n",
    "    n_epochs,\n",
    "    b,\n",
    "    Fs,\n",
    "    set=\"tst\",\n",
    ")"
   ]
  },
  {
   "cell_type": "code",
   "execution_count": 36,
   "metadata": {},
   "outputs": [
    {
     "name": "stdout",
     "output_type": "stream",
     "text": [
      "(60000, 8820)\n",
      "(10000, 8820)\n"
     ]
    }
   ],
   "source": [
    "print(codes.shape)\n",
    "print(tst_codes.shape)"
   ]
  },
  {
   "cell_type": "markdown",
   "metadata": {},
   "source": [
    "Task 0: Auto-Association\n",
    "    - join lbl encoding with code (lbl|code)\n",
    "    - store the concatenated code in a WN.\n",
    "    - retrieve the coded set\n",
    "    - compare the lbl from coded set and ret set "
   ]
  },
  {
   "cell_type": "code",
   "execution_count": 37,
   "metadata": {},
   "outputs": [],
   "source": [
    "def autoassociation(desCodes, desc_size, full_memory):\n",
    "    \"\"\"\n",
    "    Measures how good the memory is at maintaining the correct label in\n",
    "    auto-association.\n",
    "    @param desCodes: 2D binary csr_matrix (desc|code)\n",
    "    @param desc_size: size of description\n",
    "    @param full_memory: AAWN memory already storing desCodes \n",
    "    \"\"\"\n",
    "    ret = full_memory.retrieve(desCodes)\n",
    "    descs_ret = separate(ret, desc_size)[0]\n",
    "    descs = separate(desCodes, desc_size)[0]\n",
    "    #correct = np.sum((descs == descs_ret).all(1))\n",
    "    #print(f\"ret_desc == desc in {correct}/{ret.shape[0]} times.\")\n",
    "    return (descs, descs_ret)"
   ]
  },
  {
   "cell_type": "markdown",
   "metadata": {},
   "source": [
    "Task 1: Completion\n",
    "    - join lbl encoding with code (lbl|code)\n",
    "    - store the concatenated code in a WN.\n",
    "    - retrieve codes without labels (empty|code)\n",
    "    - compare the lbl from coded set and ret set "
   ]
  },
  {
   "cell_type": "code",
   "execution_count": 44,
   "metadata": {},
   "outputs": [],
   "source": [
    "def completion(desCodes, desc_size, full_memory):\n",
    "    \"\"\"\n",
    "    Measures how good the memory is at completing the missing\n",
    "    desc of stored patterns\n",
    "    @param desCodes: 2D binary csr_matrix (desc|code)\n",
    "    @param desc_size: size of description\n",
    "    @param full_memory: AAWN memory already storing desCodes \n",
    "    \"\"\"\n",
    "    descs, codes = separate(desCodes, desc_size)\n",
    "    empty_descs = np.zeros_like(descs)\n",
    "    just_codes = join(empty_descs, codes)\n",
    "    ret = full_memory.retrieve(just_codes)\n",
    "    descs_ret = separate(ret, desc_size)[0]\n",
    "    #correct = np.sum((descs == descs_ret).all(1))\n",
    "    #print(f\"ret_desc == desc in {correct}/{ret.shape[0]} times.\")\n",
    "    return (descs, descs_ret)"
   ]
  },
  {
   "cell_type": "markdown",
   "metadata": {},
   "source": [
    "Task 2: Classification\n",
    "    - join lbl encoding with code (lbl|code)\n",
    "    - store the concatenated code in a WN.\n",
    "    - encode the test set, and add an empty lbl (empty|tst_codes)\n",
    "    - compute ret set and compare obtained lbls with the correct ones."
   ]
  },
  {
   "cell_type": "code",
   "execution_count": 39,
   "metadata": {},
   "outputs": [],
   "source": [
    "def classification(tst_desCodes, desc_size, full_memory):\n",
    "    \"\"\"\n",
    "    Measures how good the memory is predicting the label of a unseen pattern\n",
    "    @param desCodes: 2D binary csr_matrix (desc|code) with test set\n",
    "    @param desc_size: size of description\n",
    "    @param full_memory: AAWN memory already storing desCodes \n",
    "    \"\"\"\n",
    "    tst_descs, tst_codes = separate(tst_desCodes, desc_size)\n",
    "    empty_descs = np.zeros_like(tst_descs)\n",
    "    just_codes = join(empty_descs, tst_codes)\n",
    "    ret = full_memory.retrieve(just_codes)\n",
    "    descs_ret = separate(ret, desc_size)[0]\n",
    "    #correct = np.sum((tst_descs == descs_ret).all(1))\n",
    "    #print(f\"ret_desc == desc in {correct}/{ret.shape[0]} times.\")\n",
    "    return (tst_descs, descs_ret)\n"
   ]
  },
  {
   "cell_type": "markdown",
   "metadata": {},
   "source": [
    "Task 3: Generation\n",
    "    - join lbl encoding with code (lbl|code)\n",
    "    - store the concatenated code in a WN.\n",
    "    - create a set of descriptions without code (desc|empty)\n",
    "    - retrieve the description\n",
    "    - Inspect the generations from each class\n",
    "    3.1:\n",
    "        - Add some random noise to the code to act as a seed (sample from distribution of codes until sparsity is similar)\n",
    "        - Add some class-dependent noise."
   ]
  },
  {
   "cell_type": "code",
   "execution_count": 45,
   "metadata": {},
   "outputs": [],
   "source": [
    "def generate(gen_desCodes, full_memory, desc_size):\n",
    "    ret = full_memory.retrieve(gen_desCodes)\n",
    "    gen_codes = separate(ret, desc_size)[1]\n",
    "    return gen_codes"
   ]
  },
  {
   "cell_type": "code",
   "execution_count": 49,
   "metadata": {},
   "outputs": [
    {
     "name": "stderr",
     "output_type": "stream",
     "text": [
      "                                                                          \r"
     ]
    }
   ],
   "source": [
    "descs = x_hot_encoding(trn_lbls, x=3)\n",
    "tst_descs = x_hot_encoding(tst_lbls, x=3)\n",
    "gen_lbls = np.repeat(np.arange(10), 10) # 10 examples from each class\n",
    "gen_descs = x_hot_encoding(tst_lbls, x=3)\n",
    "desc_size = descs.shape[1] "
   ]
  },
  {
   "cell_type": "code",
   "execution_count": 50,
   "metadata": {},
   "outputs": [],
   "source": [
    "code_size = codes.shape[1]\n",
    "desCodes = join(descs, codes)\n",
    "tst_desCodes = join(tst_descs, tst_codes)"
   ]
  },
  {
   "cell_type": "code",
   "execution_count": 51,
   "metadata": {},
   "outputs": [
    {
     "name": "stderr",
     "output_type": "stream",
     "text": [
      "                                                                \r"
     ]
    }
   ],
   "source": [
    "\"\"\"Store the (desc|codes) in a AAWN\"\"\"\n",
    "wn = AAWN(desCodes.shape[1])\n",
    "wn.store(desCodes)"
   ]
  },
  {
   "cell_type": "code",
   "execution_count": 52,
   "metadata": {},
   "outputs": [
    {
     "name": "stderr",
     "output_type": "stream",
     "text": [
      "                                                                   \r"
     ]
    },
    {
     "name": "stdout",
     "output_type": "stream",
     "text": [
      "ret_desc == desc in 8702/60000 times.\n"
     ]
    }
   ],
   "source": [
    "#autoassociation(desCodes, desc_size, wn)\n",
    "desc, ret_desc = completion(desCodes, desc_size, wn)\n",
    "#classification(tst_desCodes, desc_size, wn)"
   ]
  },
  {
   "cell_type": "code",
   "execution_count": 53,
   "metadata": {},
   "outputs": [
    {
     "name": "stdout",
     "output_type": "stream",
     "text": [
      "avg sparsity = 0.1\n",
      "densest (%B) = 0.1\n",
      "avg sparsity = 0.3512533333333333\n",
      "densest (%B) = 1.0\n"
     ]
    },
    {
     "data": {
      "text/plain": [
       "(0.3512533333333333, 1.0)"
      ]
     },
     "execution_count": 53,
     "metadata": {},
     "output_type": "execute_result"
    }
   ],
   "source": [
    "measure_sparsity(csr_matrix(desc), verbose=True)\n",
    "measure_sparsity(csr_matrix(ret_desc), verbose=True)\n"
   ]
  },
  {
   "cell_type": "code",
   "execution_count": 17,
   "metadata": {},
   "outputs": [
    {
     "name": "stderr",
     "output_type": "stream",
     "text": [
      "                                                               \r"
     ]
    },
    {
     "data": {
      "image/png": "[encoded data removed]",
      "text/plain": [
       "<Figure size 432x288 with 100 Axes>"
      ]
     },
     "metadata": {},
     "output_type": "display_data"
    }
   ],
   "source": [
    "#gen_lbls = np.repeat(np.arange(10), 10) # 10 examples from each class\n",
    "n = 10\n",
    "gen_imgs = np.empty(shape=(10*n,28,28))\n",
    "for i in range(10):\n",
    "    gen_lbls = np.repeat([i], n)\n",
    "    gen_descs = x_hot_encoding(gen_lbls)\n",
    "\n",
    "    seed = csr_matrix(np.zeros(shape=(n,K*Q*Q)))\n",
    "\n",
    "    gen_desCodes = join(gen_descs, seed)\n",
    "\n",
    "    gen_codes = generate(gen_desCodes, wn, desc_size)\n",
    "    gen_imgs[i*n:(i+1)*n] = recon_no_polar(gen_codes, features, Q, K)\n",
    "    \n",
    "\n",
    "multiple_imshow(gen_imgs, layout=(10,n))"
   ]
  },
  {
   "cell_type": "code",
   "execution_count": 18,
   "metadata": {},
   "outputs": [
    {
     "name": "stderr",
     "output_type": "stream",
     "text": [
      "                                                               \r"
     ]
    },
    {
     "data": {
      "image/png": "[encoded data removed]",
      "text/plain": [
       "<Figure size 432x288 with 100 Axes>"
      ]
     },
     "metadata": {},
     "output_type": "display_data"
    }
   ],
   "source": [
    "#gen_lbls = np.repeat(np.arange(10), 10) # 10 examples from each class\n",
    "n = 10\n",
    "gen_imgs = np.empty(shape=(10*n,28,28))\n",
    "for i in range(10):\n",
    "    gen_lbls = np.repeat([i], n)\n",
    "    gen_descs = x_hot_encoding(gen_lbls)\n",
    "\n",
    "    dist = compute_prob_dist(codes)\n",
    "    seed = sample_from_dist(dist, n)\n",
    "\n",
    "    gen_desCodes = join(gen_descs, seed)\n",
    "\n",
    "    gen_codes = generate(gen_desCodes, wn, desc_size)\n",
    "    gen_imgs[i*n:(i+1)*n] = recon_no_polar(gen_codes, features, Q, K)\n",
    "    \n",
    "\n",
    "multiple_imshow(gen_imgs, layout=(10,n))"
   ]
  },
  {
   "cell_type": "code",
   "execution_count": 20,
   "metadata": {},
   "outputs": [
    {
     "name": "stderr",
     "output_type": "stream",
     "text": [
      "                                                               \r"
     ]
    },
    {
     "data": {
      "image/png": "[encoded data removed]",
      "text/plain": [
       "<Figure size 432x288 with 100 Axes>"
      ]
     },
     "metadata": {},
     "output_type": "display_data"
    }
   ],
   "source": [
    "#gen_lbls = np.repeat(np.arange(10), 10) # 10 examples from each class\n",
    "n = 10\n",
    "gen_imgs = np.empty(shape=(10*n,28,28))\n",
    "for i in range(10):\n",
    "    gen_lbls = np.repeat([i], n)\n",
    "    gen_descs = x_hot_encoding(gen_lbls)\n",
    "\n",
    "    dist = compute_prob_dist(codes[trn_lbls==i])\n",
    "    seed = sample_from_dist(dist, n)\n",
    "\n",
    "    gen_desCodes = join(gen_descs, seed)\n",
    "\n",
    "    gen_codes = generate(gen_desCodes, wn, desc_size)\n",
    "    gen_imgs[i*n:(i+1)*n] = recon_no_polar(gen_codes, features, Q, K)\n",
    "    \n",
    "\n",
    "multiple_imshow(gen_imgs, layout=(10,n))"
   ]
  }
 ],
 "metadata": {
  "interpreter": {
   "hash": "5c894ff839a48d4c77499b12de5ae102574276f781916b9d57be3a7c4f5e8334"
  },
  "kernelspec": {
   "display_name": "Python 3.9.6 64-bit",
   "language": "python",
   "name": "python3"
  },
  "language_info": {
   "codemirror_mode": {
    "name": "ipython",
    "version": 3
   },
   "file_extension": ".py",
   "mimetype": "text/x-python",
   "name": "python",
   "nbconvert_exporter": "python",
   "pygments_lexer": "ipython3",
   "version": "3.9.6"
  },
  "orig_nbformat": 4
 },
 "nbformat": 4,
 "nbformat_minor": 2
}
