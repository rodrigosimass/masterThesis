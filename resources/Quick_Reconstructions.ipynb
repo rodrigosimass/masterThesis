{
 "cells": [
  {
   "cell_type": "code",
   "execution_count": 2,
   "metadata": {},
   "outputs": [],
   "source": [
    "import time\n",
    "import matplotlib.pyplot as plt\n",
    "import numpy as np\n",
    "import tensorflow as tf\n",
    "from sklearn.cluster import MiniBatchKMeans\n",
    "from skimage.util import view_as_windows\n",
    "from tqdm.notebook import tqdm"
   ]
  },
  {
   "cell_type": "code",
   "execution_count": 3,
   "metadata": {},
   "outputs": [],
   "source": [
    "def to_windows(img,window_shape,step_shape,dims=None):\n",
    "    pad = []\n",
    "    if dims is None : dims = img.ndim\n",
    "    for i in range(img.ndim):\n",
    "        if i < dims:\n",
    "            n = img.shape[i]\n",
    "            s = step_shape[i]\n",
    "            f = window_shape[i]\n",
    "            p = int((f + (n - 1)*s - n)/2)\n",
    "        else:\n",
    "            p = 0\n",
    "        pad.append((p,p))\n",
    "    img_padded = np.pad(img, tuple(pad), 'constant', constant_values=(0))\n",
    "    output = view_as_windows(img_padded,window_shape,step_shape)\n",
    "    output = output.reshape( -1, np.prod( window_shape ) )\n",
    "    return output\n",
    "\n",
    "def H(x):\n",
    "    y = np.zeros(x.shape) \n",
    "    y[x>0] = 1\n",
    "    return y\n",
    "\n",
    "def regular_convolution(x,K):\n",
    "    kernel_shape = K.shape\n",
    "    step_shape = tuple(np.ones(len(kernel_shape)).astype(int))\n",
    "    data = to_windows(x,kernel_shape,step_shape)\n",
    "    W = K.reshape(1,-1)\n",
    "    logits = data @ W.T\n",
    "    return logits.reshape(x.shape)\n",
    "\n",
    "def cosine_convolution(x,K,wta=True):    \n",
    "    k = K.shape[0]\n",
    "    kernel_shape = K.shape[1:]\n",
    "    step_shape = tuple(np.ones(len(kernel_shape)).astype(int))\n",
    "    data = to_windows(x,kernel_shape,step_shape)\n",
    "    norms = np.linalg.norm(data,axis=1,keepdims=True)\n",
    "    out = (norms<=0)[:,0]\n",
    "    norms[out] = 1\n",
    "    data = data / norms\n",
    "    W = K.reshape(k,-1)\n",
    "    norms = np.linalg.norm(W,axis=1,keepdims=True)\n",
    "    W = W / norms\n",
    "    d = ((data @ W.T) + 1)/2\n",
    "    if wta:\n",
    "        t = d.max(axis=1,keepdims=True)\n",
    "        t[np.linalg.norm(data,axis=1)<=0] = np.inf\n",
    "        o = np.zeros(d.shape)\n",
    "        o[(t-d)<=0] = d[(t-d)<=0]\n",
    "        o = o.reshape(x.shape + (k,))\n",
    "        return o\n",
    "    return d.reshape(x.shape + (k,))\n",
    "\n",
    "def euclid_convolution(x,km,wta=True):    \n",
    "    k = km.cluster_centers_.shape[0]\n",
    "    kernel_shape = int(np.sqrt(km.cluster_centers_.shape[1]))\n",
    "    kernel_shape = (kernel_shape,kernel_shape)\n",
    "    step_shape = tuple(np.ones(len(kernel_shape)).astype(int))\n",
    "    data = to_windows(x,kernel_shape,step_shape)\n",
    "    d = 1/km.transform(data)\n",
    "    if wta:\n",
    "        t = d.max(axis=1,keepdims=True)\n",
    "        t[np.linalg.norm(data,axis=1)<=0] = np.inf\n",
    "        o = np.zeros(d.shape)\n",
    "        o[(t-d)<=0] = d[(t-d)<=0]\n",
    "        o = o.reshape(x.shape + (k,))\n",
    "        return o\n",
    "    return d.reshape(x.shape + (k,))\n",
    "\n",
    "def mu_ret(img,K,T_ret,wta=True):\n",
    "    #z = cosine_convolution(img,K,wta=wta)\n",
    "    z = euclid_convolution(img,K,wta=wta)\n",
    "    a = H(z - np.quantile(z[z>0],q=T_ret))\n",
    "    return a\n",
    "\n",
    "def enum_set(a):\n",
    "    n_H, n_W, n_K = a.shape\n",
    "    k = np.linspace(1, n_K, n_K)\n",
    "    h = np.flip(np.linspace(0, n_H-1, n_H))\n",
    "    w = np.linspace(0, n_W-1, n_W)\n",
    "    W, H, K = np.meshgrid(w, h, k)\n",
    "    k = K[a!=0]\n",
    "    h = H[a!=0]\n",
    "    w = W[a!=0]\n",
    "    ret_set = np.zeros((k.shape[0],3))\n",
    "    ret_set[:,0] = ((w/(n_W-1))*2)-1\n",
    "    ret_set[:,1] = ((h/(n_H-1))*2)-1\n",
    "    ret_set[:,2] = k\n",
    "    return ret_set\n",
    "\n",
    "def translation(features,C_x,C_y):\n",
    "    M = np.eye(3)\n",
    "    M[0:-1,-1] = (C_x,C_y)\n",
    "    pos = np.copy(features)\n",
    "    pos[:,-1] = 1\n",
    "    pos = np.dot(M,pos.T).T\n",
    "    pos[:,-1] = features[:,-1]\n",
    "    return pos\n",
    "\n",
    "def scale(features,rad):\n",
    "    pos = np.copy(features)\n",
    "    M = np.diag([1./rad,1./rad])\n",
    "    pos[:,0:2] = np.dot(M,pos[:,0:2].T).T\n",
    "    return pos\n",
    "\n",
    "def polar_transform(x):\n",
    "    cx,cy = np.mean(x[:,0:2],axis=0)\n",
    "    w = x[:,0]\n",
    "    h = x[:,1]\n",
    "    rad = np.max(np.sqrt((w - cx)**2 + (h - cy)**2))\n",
    "    pol = scale(translation(x,-cx,-cy),rad)\n",
    "    return pol"
   ]
  },
  {
   "cell_type": "code",
   "execution_count": 4,
   "metadata": {},
   "outputs": [],
   "source": [
    "def grid_encoding(x,Q,k):\n",
    "    pol = np.zeros(x.shape)\n",
    "    pol[:,0] = x[:,1]\n",
    "    pol[:,1] = x[:,0]\n",
    "    pol[:,2] = x[:,2]\n",
    "    h = np.histogramdd(pol, bins=(Q,Q,k), range=[(-1,1),(-1,1),(1,k)])[0]\n",
    "    h = np.flip(h,axis=0) # for visualization purposes\n",
    "    h[h>0] = 1\n",
    "    return h"
   ]
  },
  {
   "cell_type": "code",
   "execution_count": 5,
   "metadata": {},
   "outputs": [],
   "source": [
    "def learn_dictionary(D,k,patch_size,rng,n_epochs,background=0.8,kmeans=None):\n",
    "    print('Learning the dictionary... ')\n",
    "    if kmeans is None:\n",
    "        kmeans = MiniBatchKMeans(n_clusters=k, random_state=rng, verbose=True)\n",
    "    buffer = []\n",
    "    t0 = time.time()\n",
    "    index = 0\n",
    "    for _ in tqdm(range(n_epochs), desc=\"Kmeans\", unit=\"epoch\"):\n",
    "        for img in tqdm(D, desc=\"kmeans epoch\", unit=\"datasamples\", leave=False):\n",
    "            data = to_windows(img,patch_size,tuple(np.ones(len(patch_size)).astype(int)))\n",
    "            norms = np.linalg.norm(data,axis=1,keepdims=True)\n",
    "            keep = norms>background\n",
    "            keep = keep[:,0]\n",
    "            data = data[keep,:]\n",
    "            #norms = norms[keep,:]\n",
    "            #data = data / norms\n",
    "            data = np.reshape(data, (len(data), -1))\n",
    "            buffer.append(data)\n",
    "            index += 1\n",
    "            if index % 10 == 0:\n",
    "                data = np.concatenate(buffer, axis=0)\n",
    "                data -= np.mean(data, axis=0)\n",
    "                data /= np.std(data, axis=0)\n",
    "                kmeans.partial_fit(data)\n",
    "                buffer = []\n",
    "    dt = time.time() - t0\n",
    "    return kmeans.cluster_centers_.reshape((-1,) + patch_size),kmeans"
   ]
  },
  {
   "cell_type": "code",
   "execution_count": 6,
   "metadata": {},
   "outputs": [],
   "source": [
    "def reconstruct(x,K):\n",
    "    print(\"x:\",x.shape)\n",
    "    print(\"K:\",K.shape)\n",
    "    reconstruction_kernels = np.flip(np.flip(K,axis=2),axis=1)\n",
    "    reconstruction_kernels = np.moveaxis(reconstruction_kernels,(0,1,2),(2,0,1))\n",
    "    Q,_,k = x.shape\n",
    "    f,_,_ = reconstruction_kernels.shape\n",
    "    p = f//2\n",
    "    x_windows = np.squeeze(view_as_windows(np.pad(x,((p,p),(p,p),(0,0))),(f,f,k),(1,1,k)))\n",
    "    x_contributions = x_windows * reconstruction_kernels\n",
    "    weight = x_windows.reshape(Q,Q,-1).sum(axis=-1)\n",
    "    weight[weight==0] = 1\n",
    "    vals = x_contributions.reshape(Q,Q,-1).sum(axis=-1)\n",
    "    r = vals / weight\n",
    "    r[r<0]=0\n",
    "    print(\"r:\",r.shape)\n",
    "    return r\n",
    "\n",
    "def reconstruct_slow(x,K):\n",
    "    k,f,_ = K.shape\n",
    "    p = f // 2\n",
    "    x_padded = np.pad(x,((p,p),(p,p),(0,0)))\n",
    "    x_padded.shape\n",
    "    r = np.zeros((Q,Q))\n",
    "    for i in tqdm(range(Q)):\n",
    "        for j in range(Q):\n",
    "            i_pad = i+p\n",
    "            j_pad = j+p\n",
    "            count = 0\n",
    "            pixel = 0\n",
    "            for m in np.arange(-p,p+1):\n",
    "                for n in np.arange(-p,p+1):\n",
    "                    pos_i = i_pad + m\n",
    "                    pos_j = j_pad + n\n",
    "                    k_i = f - (m+p) - 1\n",
    "                    k_j = f - (n+p) - 1\n",
    "                    for l in range(k):\n",
    "                        # if this kernel contributes added the corresponding pixel\n",
    "                        if x_padded[pos_i,pos_j,l] > 0:\n",
    "                            count += 1\n",
    "                            pixel += K[l,k_i,k_j]\n",
    "            if count > 0:\n",
    "                r[i,j] = pixel / count\n",
    "    r[r<0] = 0\n",
    "    return r"
   ]
  },
  {
   "cell_type": "code",
   "execution_count": 7,
   "metadata": {},
   "outputs": [
    {
     "name": "stdout",
     "output_type": "stream",
     "text": [
      "Shape: (60000, 28, 28)\n",
      "Example: \n"
     ]
    },
    {
     "data": {
      "image/png": "[encoded data removed]",
      "text/plain": [
       "<Figure size 432x288 with 1 Axes>"
      ]
     },
     "metadata": {
      "needs_background": "light"
     },
     "output_type": "display_data"
    }
   ],
   "source": [
    "mnist = tf.keras.datasets.mnist\n",
    "(X_train, y_D),(X_test, y_T) = mnist.load_data()\n",
    "D, T = X_train / 255.0, X_test / 255.0\n",
    "\n",
    "n_train = D.shape[0]\n",
    "n_test = T.shape[0]\n",
    "n_H = D.shape[1]\n",
    "n_W = D.shape[2]\n",
    "n_classes = 10\n",
    "\n",
    "print(\"Shape: \" + str(D.shape))\n",
    "print(\"Example: \")\n",
    "plt.imshow(D[np.random.permutation(D.shape[0])[0]],cmap=\"gray\")\n",
    "plt.show()"
   ]
  },
  {
   "cell_type": "code",
   "execution_count": 8,
   "metadata": {},
   "outputs": [],
   "source": [
    "n_epochs = 5\n",
    "k = 30\n",
    "f = 5\n",
    "kernel_shape = (f,f)\n",
    "rng = np.random.RandomState(0)\n",
    "T_what = 0.6\n",
    "T_where = 0.165\n",
    "Q = 18"
   ]
  },
  {
   "cell_type": "code",
   "execution_count": 10,
   "metadata": {},
   "outputs": [
    {
     "name": "stdout",
     "output_type": "stream",
     "text": [
      "Learning the dictionary... \n"
     ]
    },
    {
     "ename": "ImportError",
     "evalue": "IProgress not found. Please update jupyter and ipywidgets. See https://ipywidgets.readthedocs.io/en/stable/user_install.html",
     "output_type": "error",
     "traceback": [
      "\u001b[0;31m---------------------------------------------------------------------------\u001b[0m",
      "\u001b[0;31mImportError\u001b[0m                               Traceback (most recent call last)",
      "\u001b[0;32m/tmp/ipykernel_15212/819555904.py\u001b[0m in \u001b[0;36m<module>\u001b[0;34m\u001b[0m\n\u001b[0;32m----> 1\u001b[0;31m \u001b[0mK\u001b[0m\u001b[0;34m,\u001b[0m\u001b[0mkm\u001b[0m \u001b[0;34m=\u001b[0m \u001b[0mlearn_dictionary\u001b[0m\u001b[0;34m(\u001b[0m\u001b[0mD\u001b[0m\u001b[0;34m,\u001b[0m\u001b[0mk\u001b[0m\u001b[0;34m,\u001b[0m\u001b[0mkernel_shape\u001b[0m\u001b[0;34m,\u001b[0m\u001b[0mrng\u001b[0m\u001b[0;34m,\u001b[0m\u001b[0mn_epochs\u001b[0m\u001b[0;34m,\u001b[0m\u001b[0mbackground\u001b[0m\u001b[0;34m=\u001b[0m\u001b[0;36m0.8\u001b[0m\u001b[0;34m)\u001b[0m\u001b[0;34m\u001b[0m\u001b[0;34m\u001b[0m\u001b[0m\n\u001b[0m",
      "\u001b[0;32m/tmp/ipykernel_15212/696817351.py\u001b[0m in \u001b[0;36mlearn_dictionary\u001b[0;34m(D, k, patch_size, rng, n_epochs, background, kmeans)\u001b[0m\n\u001b[1;32m      6\u001b[0m     \u001b[0mt0\u001b[0m \u001b[0;34m=\u001b[0m \u001b[0mtime\u001b[0m\u001b[0;34m.\u001b[0m\u001b[0mtime\u001b[0m\u001b[0;34m(\u001b[0m\u001b[0;34m)\u001b[0m\u001b[0;34m\u001b[0m\u001b[0;34m\u001b[0m\u001b[0m\n\u001b[1;32m      7\u001b[0m     \u001b[0mindex\u001b[0m \u001b[0;34m=\u001b[0m \u001b[0;36m0\u001b[0m\u001b[0;34m\u001b[0m\u001b[0;34m\u001b[0m\u001b[0m\n\u001b[0;32m----> 8\u001b[0;31m     \u001b[0;32mfor\u001b[0m \u001b[0m_\u001b[0m \u001b[0;32min\u001b[0m \u001b[0mtqdm\u001b[0m\u001b[0;34m(\u001b[0m\u001b[0mrange\u001b[0m\u001b[0;34m(\u001b[0m\u001b[0mn_epochs\u001b[0m\u001b[0;34m)\u001b[0m\u001b[0;34m,\u001b[0m \u001b[0mdesc\u001b[0m\u001b[0;34m=\u001b[0m\u001b[0;34m\"Kmeans\"\u001b[0m\u001b[0;34m,\u001b[0m \u001b[0munit\u001b[0m\u001b[0;34m=\u001b[0m\u001b[0;34m\"epoch\"\u001b[0m\u001b[0;34m)\u001b[0m\u001b[0;34m:\u001b[0m\u001b[0;34m\u001b[0m\u001b[0;34m\u001b[0m\u001b[0m\n\u001b[0m\u001b[1;32m      9\u001b[0m         \u001b[0;32mfor\u001b[0m \u001b[0mimg\u001b[0m \u001b[0;32min\u001b[0m \u001b[0mtqdm\u001b[0m\u001b[0;34m(\u001b[0m\u001b[0mD\u001b[0m\u001b[0;34m,\u001b[0m \u001b[0mdesc\u001b[0m\u001b[0;34m=\u001b[0m\u001b[0;34m\"kmeans epoch\"\u001b[0m\u001b[0;34m,\u001b[0m \u001b[0munit\u001b[0m\u001b[0;34m=\u001b[0m\u001b[0;34m\"datasamples\"\u001b[0m\u001b[0;34m,\u001b[0m \u001b[0mleave\u001b[0m\u001b[0;34m=\u001b[0m\u001b[0;32mFalse\u001b[0m\u001b[0;34m)\u001b[0m\u001b[0;34m:\u001b[0m\u001b[0;34m\u001b[0m\u001b[0;34m\u001b[0m\u001b[0m\n\u001b[1;32m     10\u001b[0m             \u001b[0mdata\u001b[0m \u001b[0;34m=\u001b[0m \u001b[0mto_windows\u001b[0m\u001b[0;34m(\u001b[0m\u001b[0mimg\u001b[0m\u001b[0;34m,\u001b[0m\u001b[0mpatch_size\u001b[0m\u001b[0;34m,\u001b[0m\u001b[0mtuple\u001b[0m\u001b[0;34m(\u001b[0m\u001b[0mnp\u001b[0m\u001b[0;34m.\u001b[0m\u001b[0mones\u001b[0m\u001b[0;34m(\u001b[0m\u001b[0mlen\u001b[0m\u001b[0;34m(\u001b[0m\u001b[0mpatch_size\u001b[0m\u001b[0;34m)\u001b[0m\u001b[0;34m)\u001b[0m\u001b[0;34m.\u001b[0m\u001b[0mastype\u001b[0m\u001b[0;34m(\u001b[0m\u001b[0mint\u001b[0m\u001b[0;34m)\u001b[0m\u001b[0;34m)\u001b[0m\u001b[0;34m)\u001b[0m\u001b[0;34m\u001b[0m\u001b[0;34m\u001b[0m\u001b[0m\n",
      "\u001b[0;32m~/miniconda3/envs/torch/lib/python3.7/site-packages/tqdm/notebook.py\u001b[0m in \u001b[0;36m__init__\u001b[0;34m(self, *args, **kwargs)\u001b[0m\n\u001b[1;32m    240\u001b[0m         \u001b[0munit_scale\u001b[0m \u001b[0;34m=\u001b[0m \u001b[0;36m1\u001b[0m \u001b[0;32mif\u001b[0m \u001b[0mself\u001b[0m\u001b[0;34m.\u001b[0m\u001b[0munit_scale\u001b[0m \u001b[0;32mis\u001b[0m \u001b[0;32mTrue\u001b[0m \u001b[0;32melse\u001b[0m \u001b[0mself\u001b[0m\u001b[0;34m.\u001b[0m\u001b[0munit_scale\u001b[0m \u001b[0;32mor\u001b[0m \u001b[0;36m1\u001b[0m\u001b[0;34m\u001b[0m\u001b[0;34m\u001b[0m\u001b[0m\n\u001b[1;32m    241\u001b[0m         \u001b[0mtotal\u001b[0m \u001b[0;34m=\u001b[0m \u001b[0mself\u001b[0m\u001b[0;34m.\u001b[0m\u001b[0mtotal\u001b[0m \u001b[0;34m*\u001b[0m \u001b[0munit_scale\u001b[0m \u001b[0;32mif\u001b[0m \u001b[0mself\u001b[0m\u001b[0;34m.\u001b[0m\u001b[0mtotal\u001b[0m \u001b[0;32melse\u001b[0m \u001b[0mself\u001b[0m\u001b[0;34m.\u001b[0m\u001b[0mtotal\u001b[0m\u001b[0;34m\u001b[0m\u001b[0;34m\u001b[0m\u001b[0m\n\u001b[0;32m--> 242\u001b[0;31m         \u001b[0mself\u001b[0m\u001b[0;34m.\u001b[0m\u001b[0mcontainer\u001b[0m \u001b[0;34m=\u001b[0m \u001b[0mself\u001b[0m\u001b[0;34m.\u001b[0m\u001b[0mstatus_printer\u001b[0m\u001b[0;34m(\u001b[0m\u001b[0mself\u001b[0m\u001b[0;34m.\u001b[0m\u001b[0mfp\u001b[0m\u001b[0;34m,\u001b[0m \u001b[0mtotal\u001b[0m\u001b[0;34m,\u001b[0m \u001b[0mself\u001b[0m\u001b[0;34m.\u001b[0m\u001b[0mdesc\u001b[0m\u001b[0;34m,\u001b[0m \u001b[0mself\u001b[0m\u001b[0;34m.\u001b[0m\u001b[0mncols\u001b[0m\u001b[0;34m)\u001b[0m\u001b[0;34m\u001b[0m\u001b[0;34m\u001b[0m\u001b[0m\n\u001b[0m\u001b[1;32m    243\u001b[0m         \u001b[0mself\u001b[0m\u001b[0;34m.\u001b[0m\u001b[0mcontainer\u001b[0m\u001b[0;34m.\u001b[0m\u001b[0mpbar\u001b[0m \u001b[0;34m=\u001b[0m \u001b[0mproxy\u001b[0m\u001b[0;34m(\u001b[0m\u001b[0mself\u001b[0m\u001b[0;34m)\u001b[0m\u001b[0;34m\u001b[0m\u001b[0;34m\u001b[0m\u001b[0m\n\u001b[1;32m    244\u001b[0m         \u001b[0mself\u001b[0m\u001b[0;34m.\u001b[0m\u001b[0mdisplayed\u001b[0m \u001b[0;34m=\u001b[0m \u001b[0;32mFalse\u001b[0m\u001b[0;34m\u001b[0m\u001b[0;34m\u001b[0m\u001b[0m\n",
      "\u001b[0;32m~/miniconda3/envs/torch/lib/python3.7/site-packages/tqdm/notebook.py\u001b[0m in \u001b[0;36mstatus_printer\u001b[0;34m(_, total, desc, ncols)\u001b[0m\n\u001b[1;32m    114\u001b[0m         \u001b[0;32mif\u001b[0m \u001b[0mIProgress\u001b[0m \u001b[0;32mis\u001b[0m \u001b[0;32mNone\u001b[0m\u001b[0;34m:\u001b[0m  \u001b[0;31m# #187 #451 #558 #872\u001b[0m\u001b[0;34m\u001b[0m\u001b[0;34m\u001b[0m\u001b[0m\n\u001b[1;32m    115\u001b[0m             raise ImportError(\n\u001b[0;32m--> 116\u001b[0;31m                 \u001b[0;34m\"IProgress not found. Please update jupyter and ipywidgets.\"\u001b[0m\u001b[0;34m\u001b[0m\u001b[0;34m\u001b[0m\u001b[0m\n\u001b[0m\u001b[1;32m    117\u001b[0m                 \u001b[0;34m\" See https://ipywidgets.readthedocs.io/en/stable\"\u001b[0m\u001b[0;34m\u001b[0m\u001b[0;34m\u001b[0m\u001b[0m\n\u001b[1;32m    118\u001b[0m                 \"/user_install.html\")\n",
      "\u001b[0;31mImportError\u001b[0m: IProgress not found. Please update jupyter and ipywidgets. See https://ipywidgets.readthedocs.io/en/stable/user_install.html"
     ]
    }
   ],
   "source": [
    "K,km = learn_dictionary(D,k,kernel_shape,rng,n_epochs,background=0.8)"
   ]
  },
  {
   "cell_type": "code",
   "execution_count": null,
   "metadata": {},
   "outputs": [
    {
     "ename": "Error",
     "evalue": "Session cannot generate requests",
     "output_type": "error",
     "traceback": [
      "Error: Session cannot generate requests",
      "at w.executeCodeCell (/home/rsimas/.vscode-server/extensions/ms-toolsai.jupyter-2021.9.1101343141/out/client/extension.js:52:301180)",
      "at w.execute (/home/rsimas/.vscode-server/extensions/ms-toolsai.jupyter-2021.9.1101343141/out/client/extension.js:52:300551)",
      "at w.start (/home/rsimas/.vscode-server/extensions/ms-toolsai.jupyter-2021.9.1101343141/out/client/extension.js:52:296215)",
      "at runMicrotasks (<anonymous>)",
      "at processTicksAndRejections (internal/process/task_queues.js:93:5)",
      "at async t.CellExecutionQueue.executeQueuedCells (/home/rsimas/.vscode-server/extensions/ms-toolsai.jupyter-2021.9.1101343141/out/client/extension.js:52:310950)",
      "at async t.CellExecutionQueue.start (/home/rsimas/.vscode-server/extensions/ms-toolsai.jupyter-2021.9.1101343141/out/client/extension.js:52:310490)"
     ]
    }
   ],
   "source": [
    "X_trn = np.zeros((D.shape[0],Q,Q,k))\n",
    "for i in tqdm(range(D.shape[0])):\n",
    "    img = D[i]\n",
    "    a = mu_ret(img,km,T_what,wta=True)\n",
    "    s = enum_set(a)\n",
    "    p = polar_transform(s)\n",
    "    X_trn[i] = grid_encoding(p,Q,K.shape[0])"
   ]
  },
  {
   "cell_type": "code",
   "execution_count": null,
   "metadata": {},
   "outputs": [
    {
     "ename": "Error",
     "evalue": "Session cannot generate requests",
     "output_type": "error",
     "traceback": [
      "Error: Session cannot generate requests",
      "at w.executeCodeCell (/home/rsimas/.vscode-server/extensions/ms-toolsai.jupyter-2021.9.1101343141/out/client/extension.js:52:301180)",
      "at w.execute (/home/rsimas/.vscode-server/extensions/ms-toolsai.jupyter-2021.9.1101343141/out/client/extension.js:52:300551)",
      "at w.start (/home/rsimas/.vscode-server/extensions/ms-toolsai.jupyter-2021.9.1101343141/out/client/extension.js:52:296215)",
      "at runMicrotasks (<anonymous>)",
      "at processTicksAndRejections (internal/process/task_queues.js:93:5)",
      "at async t.CellExecutionQueue.executeQueuedCells (/home/rsimas/.vscode-server/extensions/ms-toolsai.jupyter-2021.9.1101343141/out/client/extension.js:52:310950)",
      "at async t.CellExecutionQueue.start (/home/rsimas/.vscode-server/extensions/ms-toolsai.jupyter-2021.9.1101343141/out/client/extension.js:52:310490)"
     ]
    }
   ],
   "source": [
    "print(X_train.shape)\n",
    "i = 9\n",
    "img = D[i]\n",
    "encoding = X_trn[i]"
   ]
  },
  {
   "cell_type": "code",
   "execution_count": null,
   "metadata": {},
   "outputs": [
    {
     "name": "stdout",
     "output_type": "stream",
     "text": [
      "x: (18, 18, 30)\n",
      "K: (30, 5, 5)\n"
     ]
    }
   ],
   "source": [
    "recon = reconstruct(encoding,K)"
   ]
  },
  {
   "cell_type": "code",
   "execution_count": 12,
   "metadata": {},
   "outputs": [
    {
     "data": {
      "text/plain": [
       "<Figure size 432x288 with 0 Axes>"
      ]
     },
     "execution_count": 12,
     "metadata": {},
     "output_type": "execute_result"
    },
    {
     "data": {
      "image/png": "[encoded data removed]",
      "text/plain": [
       "<Figure size 432x288 with 1 Axes>"
      ]
     },
     "metadata": {
      "needs_background": "light"
     },
     "output_type": "display_data"
    },
    {
     "data": {
      "image/png": "[encoded data removed]",
      "text/plain": [
       "<Figure size 432x288 with 1 Axes>"
      ]
     },
     "metadata": {
      "needs_background": "light"
     },
     "output_type": "display_data"
    },
    {
     "data": {
      "text/plain": [
       "<Figure size 432x288 with 0 Axes>"
      ]
     },
     "metadata": {},
     "output_type": "display_data"
    }
   ],
   "source": [
    "plt.imshow(img)\n",
    "plt.figure()\n",
    "plt.imshow(recon)\n",
    "plt.figure()"
   ]
  }
 ],
 "metadata": {
  "interpreter": {
   "hash": "160e71d208a4431fc17b0cd0cda0f068cc839f1948977641bf9cd5e2e3ecb43d"
  },
  "kernelspec": {
   "display_name": "Python 3.7.11 64-bit ('torch': conda)",
   "name": "python3"
  },
  "language_info": {
   "codemirror_mode": {
    "name": "ipython",
    "version": 3
   },
   "file_extension": ".py",
   "mimetype": "text/x-python",
   "name": "python",
   "nbconvert_exporter": "python",
   "pygments_lexer": "ipython3",
   "version": "3.7.11"
  }
 },
 "nbformat": 4,
 "nbformat_minor": 2
}
